{
 "cells": [
  {
   "cell_type": "markdown",
   "metadata": {},
   "source": [
    "<h1 align=center><font size = 5><b>Capstone project:</b> The Battle of the Neighbourhoods.</font></h1>\n",
    "\n",
    "I have chosen to share my github notebook here using nbviewer (https://nbviewer.jupyter.org/), so all of the aspects can be seen properly. Github's notebook view misses many  aspects such as html tagged data and more etc.\n",
    "All I did was share my original github link of required Notebook to nbviewer which is what you are looking at."
   ]
  },
  {
   "cell_type": "markdown",
   "metadata": {},
   "source": [
    "<h4 align=center><b>Author:</b> Colin Kagame, June 2020."
   ]
  },
  {
   "cell_type": "markdown",
   "metadata": {},
   "source": [
    "## **Summary.**"
   ]
  },
  {
   "cell_type": "markdown",
   "metadata": {},
   "source": [
    "This assignment attempts to analyse and explore the different neighbourhoods of a borough in the city of London, UK called Merton. The sole purpose for this is to find the most suitable neighbourhood in which to open up a Chinese restaurant within Merton. To perform this analysis, we will use K-means clustering, an unsupervised machine learning algorithm."
   ]
  },
  {
   "cell_type": "markdown",
   "metadata": {},
   "source": [
    "## **1. Introduction.**"
   ]
  },
  {
   "cell_type": "markdown",
   "metadata": {},
   "source": [
    "**Background:** London is England’s capital and the largest city of England and the United Kingdom. It is considered one of the world’s most visited cities and boasts a very vibrant economy, attracting multitudes of people from all over the world for tourism, education, work and settlement purposes. London has a diverse range of peoples and cultures, and more than 300 languages are spoken within the region. The city’s estimated mid-2018 municipal population (corresponding to Greater London) was close to 9 million making it the third most populous of any city in Europe. \n",
    "\n",
    "<blockquote> According to Trustforlondon, London’s population is estimated to reach 10 million. </blockquote>\n",
    "\n",
    "For these reasons it is clear that London has a large demand relating to food/catering to accommodate not only its large population, but also its culturally diverse population. For this assignment we will explore, cluster, and perform an in-depth analysis on one of the boroughs of London to determine where is best to open up a Chinese restaurant.\n",
    "\n",
    "**Target audience:** The target audience for this is someone who is seeking to open up a restaurant in the residential boroughs of Southwest London, particularly Merton. One can benefit by finding out which are the most popular restuarant types in the neighborhoods/towns of Merton as per how many of them are n a borough and customer ratings. For this assignment we chose to focus on a business person who wants to open a Chinese restaurant but the analysis results could aid other individuals finding what restuarant types/cusines are popular in particular neighbourhoods."
   ]
  },
  {
   "cell_type": "markdown",
   "metadata": {},
   "source": [
    "## **2. Data.**"
   ]
  },
  {
   "cell_type": "markdown",
   "metadata": {},
   "source": [
    "**Two sets of data were utilised in this assignment.** The first dataset required was that constituting the city and corresponding neighborhood data needed to explore Merton, London, UK which is our city of choice for this analysis. For this I used data from wikepdia, similar to what we did in Week 3's Toronto analysis where data was scraped from a Wikepedia page using beautifulsoup etc. The Wikepida page I have used for this assignment is tittled, 'List of Areas of London.' This constitutes the data we need such as Boroughs, Disctricts, Postcodes and more. I aim to scrape this wikepdia page in similar fashion to our Toronto task, and then store this data in dataframes.  \n",
    "\n",
    "Then for the venues around the locations obtained above, including their <u>coordinate details</u>, we obtained the data from <u>Foursquare's venue/search API</u> that allowed us to pull this data from Foursquare's database.  \n",
    "\n",
    "**Data sources used for this assignment:**\n",
    "\n",
    "a)\t**Wikipedia:** London location data, such as towns, boroughs and postcodes etc.\n",
    "                For this we used Wikipedia: https://en.wikipedia.org/wiki/List_of_areas_of_London\n",
    "\n",
    "b)\t**Foursquare:** For data relating to venue categories, venues and their respective neighbourhoods, including their latitude and longitudes values we utilised the Foursquare API. \n",
    "\n",
    "-\tFoursquare Search/Places API: https://developer.foursquare.com/docs/api-reference/venues/search/\n",
    "-\tFoursquare Venue Categories. https://developer.foursquare.com/docs/build-with-foursquare/categories/\n",
    "\n",
    "The data obtained from Foursquare was then used in conjunction to that which we scraped off the Wikipedia page to create the necessary dataframes, maps etc.\n"
   ]
  },
  {
   "cell_type": "markdown",
   "metadata": {},
   "source": [
    "**Libraries to be used.**"
   ]
  },
  {
   "cell_type": "markdown",
   "metadata": {},
   "source": [
    "Pandas: For creating and manipulating dataframes.\n",
    "\n",
    "- Folium: Python visualization library to visualize the neighborhoods cluster distribution of using interactive leaflet map.\n",
    "\n",
    "- Scikit Learn: To import k-means clustering.\n",
    "\n",
    "- JSON: Library to handle JSON files.\n",
    "\n",
    "- XML: To separate data from presentation XML i.e. stores data in plain text format.\n",
    "\n",
    "- Geocoder: For retrieving Location Data.\n",
    "\n",
    "- Beautiful Soup and Requests: To scrape wikepedia page and to handle http requests.\n",
    "\n",
    "- Matplotlib: Python Plotting Module."
   ]
  },
  {
   "cell_type": "code",
   "execution_count": null,
   "metadata": {},
   "outputs": [],
   "source": []
  }
 ],
 "metadata": {
  "kernelspec": {
   "display_name": "Python",
   "language": "python",
   "name": "conda-env-python-py"
  },
  "language_info": {
   "codemirror_mode": {
    "name": "ipython",
    "version": 3
   },
   "file_extension": ".py",
   "mimetype": "text/x-python",
   "name": "python",
   "nbconvert_exporter": "python",
   "pygments_lexer": "ipython3",
   "version": "3.6.10"
  }
 },
 "nbformat": 4,
 "nbformat_minor": 4
}
