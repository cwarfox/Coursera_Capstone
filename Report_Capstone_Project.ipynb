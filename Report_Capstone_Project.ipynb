{
 "cells": [
  {
   "cell_type": "markdown",
   "metadata": {},
   "source": [
    "<h1 align=center><font size = 5><b>Capstone project:</b> The Battle of the Neighbourhoods.</font></h1>"
   ]
  },
  {
   "cell_type": "markdown",
   "metadata": {},
   "source": [
    "<h4 align=center> <b>Author:</b> Colin Kagame, June 2020."
   ]
  },
  {
   "cell_type": "markdown",
   "metadata": {},
   "source": [
    "#### **Summary.**"
   ]
  },
  {
   "cell_type": "markdown",
   "metadata": {},
   "source": [
    "This assignment attempts to analyse and explore the different neighbourhoods of a borough in the city of London, UK called Merton. The sole purpose for this is to find the most suitable neighbourhood in which to open up a Chinese restaurant within Merton. To perform this analysis, we will use K-means clustering, an unsupervised machine learning algorithm."
   ]
  },
  {
   "cell_type": "markdown",
   "metadata": {},
   "source": [
    "#### **1. Introduction.**"
   ]
  },
  {
   "cell_type": "markdown",
   "metadata": {},
   "source": [
    "London is England’s capital and the largest city of England and the United Kingdom. It is considered one of the world’s most visited cities and boasts a very vibrant economy, attracting multitudes of people from all over the world for tourism, education, work and settlement purposes. London has a diverse range of peoples and cultures, and more than 300 languages are spoken within the region. The city’s estimated mid-2018 municipal population (corresponding to Greater London) was close to 9 million making it the third most populous of any city in Europe. According to Trustforlondon, London’s population is estimated to be 10 million. For these reasons it is clear that London has a large demand relating to food/catering to accommodate not only its large population, but also its culturally diverse population. For this assignment we will explore, cluster, and perform an in-depth analysis on one of the boroughs of London to determine where is best to open up a Chinese restaurant."
   ]
  },
  {
   "cell_type": "markdown",
   "metadata": {},
   "source": [
    "#### **2. Data.**"
   ]
  },
  {
   "cell_type": "markdown",
   "metadata": {},
   "source": [
    "For this assignment we used the following data sources:\n",
    "\n",
    "a)\tWikipedia: London location data, such as towns, boroughs and postcodes etc.\n",
    "                For this we used Wikipedia: https://en.wikipedia.org/wiki/List_of_areas_of_London\n",
    "\n",
    "b)\tFoursquare: For data relating to venue categories, venues and their respective neighbourhoods, including their latitude and longitudes values we utilised the Foursquare API. \n",
    "\n",
    "-\tFoursquare Search/Places API: https://developer.foursquare.com/docs/api-reference/venues/search/\n",
    "-\tFoursquare Venue Categories. https://developer.foursquare.com/docs/build-with-foursquare/categories/\n",
    "\n",
    "The data obtained from Foursquare was then used in conjunction to that which we scraped off the Wikipedia page to create the necessary dataframes, maps etc.\n"
   ]
  },
  {
   "cell_type": "code",
   "execution_count": null,
   "metadata": {},
   "outputs": [],
   "source": []
  }
 ],
 "metadata": {
  "kernelspec": {
   "display_name": "Python",
   "language": "python",
   "name": "conda-env-python-py"
  },
  "language_info": {
   "codemirror_mode": {
    "name": "ipython",
    "version": 3
   },
   "file_extension": ".py",
   "mimetype": "text/x-python",
   "name": "python",
   "nbconvert_exporter": "python",
   "pygments_lexer": "ipython3",
   "version": "3.6.10"
  }
 },
 "nbformat": 4,
 "nbformat_minor": 4
}
